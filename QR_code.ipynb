{
  "nbformat": 4,
  "nbformat_minor": 0,
  "metadata": {
    "colab": {
      "provenance": [],
      "authorship_tag": "ABX9TyP5l6ZmjLb98KUjfSXqhOsQ",
      "include_colab_link": true
    },
    "kernelspec": {
      "name": "python3",
      "display_name": "Python 3"
    },
    "language_info": {
      "name": "python"
    }
  },
  "cells": [
    {
      "cell_type": "markdown",
      "metadata": {
        "id": "view-in-github",
        "colab_type": "text"
      },
      "source": [
        "<a href=\"https://colab.research.google.com/github/Swarnlataaa/QR_code_generator/blob/main/QR_code.ipynb\" target=\"_parent\"><img src=\"https://colab.research.google.com/assets/colab-badge.svg\" alt=\"Open In Colab\"/></a>"
      ]
    },
    {
      "cell_type": "code",
      "execution_count": null,
      "metadata": {
        "id": "sDron6--j4S2"
      },
      "outputs": [],
      "source": [
        "# Importing library\n",
        "import qrcode\n",
        "\n",
        "# Data to be encoded\n",
        "data = 'QR Code using make() function'\n",
        "\n",
        "# Encoding data using make() function\n",
        "img = qrcode.make(data)\n",
        "\n",
        "# Saving as an image file\n",
        "img.save('MyQRCode1.png')\n"
      ]
    },
    {
      "cell_type": "code",
      "source": [
        "# Importing library\n",
        "import qrcode\n",
        "\n",
        "# Data to encode\n",
        "data = \"Whatever you want to convey\"\n",
        "\n",
        "# Creating an instance of QRCode class\n",
        "qr = qrcode.QRCode(version = 1,\n",
        "\t\t\t\tbox_size = 10,\n",
        "\t\t\t\tborder = 5)\n",
        "\n",
        "# Adding data to the instance 'qr'\n",
        "qr.add_data(data)\n",
        "\n",
        "qr.make(fit = True)\n",
        "img = qr.make_image(fill_color = 'red',\n",
        "\t\t\t\t\tback_color = 'white')\n",
        "\n",
        "img.save('MyQRCode2.png')\n"
      ],
      "metadata": {
        "id": "W_ZFw5NfkSoV"
      },
      "execution_count": null,
      "outputs": []
    }
  ]
}